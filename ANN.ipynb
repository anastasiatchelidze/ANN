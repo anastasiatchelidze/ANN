{
  "nbformat": 4,
  "nbformat_minor": 0,
  "metadata": {
    "colab": {
      "provenance": []
    },
    "kernelspec": {
      "name": "python3",
      "display_name": "Python 3"
    },
    "language_info": {
      "name": "python"
    }
  },
  "cells": [
    {
      "cell_type": "code",
      "execution_count": 4,
      "metadata": {
        "id": "DRSWCMoMGz4z"
      },
      "outputs": [],
      "source": [
        "from sklearn.datasets import load_digits\n",
        "digits = load_digits()"
      ]
    },
    {
      "cell_type": "code",
      "execution_count": 5,
      "metadata": {
        "colab": {
          "base_uri": "https://localhost:8080/",
          "height": 275
        },
        "id": "ka8YsSghkfQO",
        "outputId": "ef04b783-f597-496f-f48c-e8c2ebf29de6"
      },
      "outputs": [
        {
          "output_type": "display_data",
          "data": {
            "text/plain": [
              "<Figure size 288x288 with 1 Axes>"
            ],
            "image/png": "[encoded data removed]"
          },
          "metadata": {
            "needs_background": "light"
          }
        }
      ],
      "source": [
        "import matplotlib.pyplot as plt\n",
        "\n",
        "dgt = digits.images[6] \n",
        "plt.matshow(dgt)\n",
        "plt.show()"
      ]
    },
    {
      "cell_type": "code",
      "source": [
        "from sklearn.neural_network import MLPClassifier\n",
        "from sklearn.model_selection import train_test_split\n",
        "\n",
        "n_samples = len(digits.images)\n",
        "data = digits.images.reshape((n_samples, -1))\n",
        "\n",
        "X_train, X_test, y_train, y_test = train_test_split(data, digits.target, test_size=0.2, shuffle=False)\n",
        "clf = MLPClassifier(random_state=0, max_iter=1000, hidden_layer_sizes=(16,10))\n",
        "clf.fit(X_train, y_train)\n",
        "y_pred = clf.predict(X_test)"
      ],
      "metadata": {
        "id": "EGh2H4sCkph0"
      },
      "execution_count": 6,
      "outputs": []
    },
    {
      "cell_type": "code",
      "source": [
        "from sklearn.metrics import classification_report\n",
        "\n",
        "print(classification_report(y_test, y_pred))"
      ],
      "metadata": {
        "colab": {
          "base_uri": "https://localhost:8080/"
        },
        "id": "AM-44moHlaMw",
        "outputId": "3e952c20-c604-49b1-e3af-dd6cd95569dc"
      },
      "execution_count": 7,
      "outputs": [
        {
          "output_type": "stream",
          "name": "stdout",
          "text": [
            "              precision    recall  f1-score   support\n",
            "\n",
            "           0       1.00      0.97      0.99        35\n",
            "           1       0.88      0.78      0.82        36\n",
            "           2       0.94      0.97      0.96        35\n",
            "           3       0.97      0.81      0.88        37\n",
            "           4       0.94      0.92      0.93        37\n",
            "           5       0.90      0.97      0.94        37\n",
            "           6       1.00      0.95      0.97        37\n",
            "           7       0.92      0.94      0.93        36\n",
            "           8       0.78      0.85      0.81        33\n",
            "           9       0.79      0.92      0.85        37\n",
            "\n",
            "    accuracy                           0.91       360\n",
            "   macro avg       0.91      0.91      0.91       360\n",
            "weighted avg       0.91      0.91      0.91       360\n",
            "\n"
          ]
        }
      ]
    }
  ]
}